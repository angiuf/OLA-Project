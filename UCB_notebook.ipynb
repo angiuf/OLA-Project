{
 "cells": [
  {
   "cell_type": "code",
   "execution_count": 1,
   "metadata": {
    "collapsed": true
   },
   "outputs": [],
   "source": [
    "from Source.UCBLearner1 import *\n",
    "from Source.Auxiliary import *\n",
    "from tqdm import trange"
   ]
  },
  {
   "cell_type": "code",
   "execution_count": 2,
   "outputs": [],
   "source": [
    "env1, model = generate_environment()\n",
    "real_conv_rates = model[\"real_conversion_rates\"]\n",
    "prices = model[\"prices\"]\n",
    "\n",
    "T = 120\n",
    "n_exp = 100\n",
    "daily_user = 500"
   ],
   "metadata": {
    "collapsed": false,
    "pycharm": {
     "name": "#%%\n"
    }
   }
  },
  {
   "cell_type": "code",
   "execution_count": 3,
   "outputs": [
    {
     "name": "stdout",
     "output_type": "stream",
     "text": [
      "Optimal_arm:  [2 2 1 1 2]\n",
      "Optimal reward:  4.44174580973359\n"
     ]
    }
   ],
   "source": [
    "optimal_arm = optimization_algorithm(model, False)  # pull the optimal arm\n",
    "print(\"Optimal_arm: \", optimal_arm)\n",
    "\n",
    "optimal_act_rate = mc_simulation(model, real_conv_rates[range(5), optimal_arm], 5, 1000)\n",
    "\n",
    "optimal_reward = return_reward(model, prices[range(5), optimal_arm],\n",
    "                               real_conv_rates[range(5), optimal_arm], optimal_act_rate, model['real_alpha_ratio'], model['real_quantity'])\n",
    "print(\"Optimal reward: \", optimal_reward)"
   ],
   "metadata": {
    "collapsed": false,
    "pycharm": {
     "name": "#%%\n"
    }
   }
  },
  {
   "cell_type": "code",
   "execution_count": 4,
   "outputs": [],
   "source": [
    "learner = UCBLearner1(model)\n",
    "instant_regret_obs = [[] for _ in range(n_exp)]"
   ],
   "metadata": {
    "collapsed": false,
    "pycharm": {
     "name": "#%%\n"
    }
   }
  },
  {
   "cell_type": "code",
   "execution_count": null,
   "outputs": [
    {
     "name": "stderr",
     "output_type": "stream",
     "text": [
      "  1%|          | 1/100 [00:31<52:08, 31.60s/it]"
     ]
    }
   ],
   "source": [
    "for i in trange(n_exp):\n",
    "\n",
    "    for t in range(T):\n",
    "        pulled_arm = learner.act()\n",
    "        alpha_ratio = env1.alpha_ratio_otd()\n",
    "        data = env1.round_single_day(daily_user, alpha_ratio, pulled_arm)\n",
    "        env_data = conv_data(data)\n",
    "        learner.update(pulled_arm, env_data)\n",
    "\n",
    "        obs_reward = 0\n",
    "        if len(data):\n",
    "            for i_ in range(len(data)):\n",
    "                obs_reward += np.sum(data[i_][0])\n",
    "\n",
    "            obs_reward /= len(data)\n",
    "\n",
    "        instant_regret_obs[i].append(optimal_reward - obs_reward)\n",
    "    learner.reset()"
   ],
   "metadata": {
    "collapsed": false,
    "pycharm": {
     "name": "#%%\n",
     "is_executing": true
    }
   }
  },
  {
   "cell_type": "code",
   "execution_count": null,
   "outputs": [],
   "source": [
    "show_results(instant_regret_obs, \"UCB test, first case\")"
   ],
   "metadata": {
    "collapsed": false,
    "pycharm": {
     "name": "#%%\n",
     "is_executing": true
    }
   }
  },
  {
   "cell_type": "code",
   "execution_count": null,
   "outputs": [],
   "source": [
    "show_reward(instant_regret_obs, \"UCB test, first case\")"
   ],
   "metadata": {
    "collapsed": false,
    "pycharm": {
     "name": "#%%\n",
     "is_executing": true
    }
   }
  },
  {
   "cell_type": "code",
   "execution_count": null,
   "outputs": [],
   "source": [],
   "metadata": {
    "collapsed": false,
    "pycharm": {
     "name": "#%%\n"
    }
   }
  }
 ],
 "metadata": {
  "kernelspec": {
   "display_name": "Python 3",
   "language": "python",
   "name": "python3"
  },
  "language_info": {
   "codemirror_mode": {
    "name": "ipython",
    "version": 2
   },
   "file_extension": ".py",
   "mimetype": "text/x-python",
   "name": "python",
   "nbconvert_exporter": "python",
   "pygments_lexer": "ipython2",
   "version": "2.7.6"
  }
 },
 "nbformat": 4,
 "nbformat_minor": 0
}