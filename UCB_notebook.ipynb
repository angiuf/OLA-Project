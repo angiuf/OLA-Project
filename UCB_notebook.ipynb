{
 "cells": [
  {
   "cell_type": "code",
   "execution_count": 1,
   "metadata": {
    "collapsed": true
   },
   "outputs": [],
   "source": [
    "from Source.UCBLearner1 import *\n",
    "from Source.Auxiliary import *\n",
    "from tqdm import trange"
   ]
  },
  {
   "cell_type": "code",
   "execution_count": 2,
   "outputs": [],
   "source": [
    "env1, model, class_probability = generate_environment()\n",
    "real_conv_rates = model[\"real_conversion_rates\"]\n",
    "prices = model[\"prices\"]\n",
    "\n",
    "T = 30\n",
    "n_exp = 10\n",
    "daily_user = 500"
   ],
   "metadata": {
    "collapsed": false,
    "pycharm": {
     "name": "#%%\n"
    }
   }
  },
  {
   "cell_type": "code",
   "execution_count": 3,
   "outputs": [
    {
     "name": "stdout",
     "output_type": "stream",
     "text": [
      "Optimal_arm:  [1 0 1 0 0]\n",
      "Optimal reward:  4.221181480579224\n"
     ]
    }
   ],
   "source": [
    "optimal_arm = optimization_algorithm(model, False)  # pull the optimal arm\n",
    "print(\"Optimal_arm: \", optimal_arm)\n",
    "\n",
    "optimal_act_rate = mc_simulation(model, real_conv_rates[range(5), optimal_arm], 5, 10000)\n",
    "\n",
    "optimal_reward = return_reward(model, prices[range(5), optimal_arm],\n",
    "                               real_conv_rates[range(5), optimal_arm], optimal_act_rate, model['real_alpha_ratio'], model['real_quantity'])\n",
    "print(\"Optimal reward: \", optimal_reward)"
   ],
   "metadata": {
    "collapsed": false,
    "pycharm": {
     "name": "#%%\n"
    }
   }
  },
  {
   "cell_type": "code",
   "execution_count": 4,
   "outputs": [],
   "source": [
    "learner = UCBLearner1(model)\n",
    "instant_regret_obs = [[] for _ in range(n_exp)]"
   ],
   "metadata": {
    "collapsed": false,
    "pycharm": {
     "name": "#%%\n"
    }
   }
  },
  {
   "cell_type": "code",
   "execution_count": 5,
   "outputs": [
    {
     "name": "stderr",
     "output_type": "stream",
     "text": [
      "100%|██████████| 10/10 [01:28<00:00,  8.82s/it]\n"
     ]
    }
   ],
   "source": [
    "for i in trange(n_exp):\n",
    "\n",
    "    for t in range(T):\n",
    "        pulled_arm = learner.act()\n",
    "        alpha_ratio = env1.alpha_ratio_otd()\n",
    "        data = env1.round_single_day(daily_user, alpha_ratio, pulled_arm, class_probability)\n",
    "        env_data = conv_data(data)\n",
    "        learner.update(pulled_arm, env_data)\n",
    "\n",
    "        obs_reward = 0\n",
    "        if len(data):\n",
    "            for i_ in range(len(data)):\n",
    "                obs_reward += np.sum(data[i_][0])\n",
    "\n",
    "            obs_reward /= len(data)\n",
    "\n",
    "        instant_regret_obs[i].append(optimal_reward - obs_reward)\n",
    "    learner.reset()"
   ],
   "metadata": {
    "collapsed": false,
    "pycharm": {
     "name": "#%%\n"
    }
   }
  },
  {
   "cell_type": "code",
   "execution_count": 6,
   "outputs": [
    {
     "data": {
      "text/plain": "<Figure size 432x288 with 1 Axes>",
      "image/png": "[encoded data removed]"
     },
     "metadata": {
      "needs_background": "light"
     },
     "output_type": "display_data"
    }
   ],
   "source": [
    "show_results(instant_regret_obs, \"UCB test, first case\")"
   ],
   "metadata": {
    "collapsed": false,
    "pycharm": {
     "name": "#%%\n"
    }
   }
  },
  {
   "cell_type": "code",
   "execution_count": null,
   "outputs": [],
   "source": [],
   "metadata": {
    "collapsed": false,
    "pycharm": {
     "name": "#%%\n"
    }
   }
  }
 ],
 "metadata": {
  "kernelspec": {
   "display_name": "Python 3",
   "language": "python",
   "name": "python3"
  },
  "language_info": {
   "codemirror_mode": {
    "name": "ipython",
    "version": 2
   },
   "file_extension": ".py",
   "mimetype": "text/x-python",
   "name": "python",
   "nbconvert_exporter": "python",
   "pygments_lexer": "ipython2",
   "version": "2.7.6"
  }
 },
 "nbformat": 4,
 "nbformat_minor": 0
}