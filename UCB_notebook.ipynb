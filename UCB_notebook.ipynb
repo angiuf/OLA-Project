{
 "cells": [
  {
   "cell_type": "code",
   "execution_count": 26,
   "metadata": {
    "collapsed": true
   },
   "outputs": [],
   "source": [
    "from UCBLearner1 import *\n",
    "from GenerateEnvironment import *\n",
    "from tqdm import trange"
   ]
  },
  {
   "cell_type": "code",
   "execution_count": 39,
   "outputs": [],
   "source": [
    "env1, model, class_probability = generate_environment()\n",
    "real_conv_rates = model[\"real_conversion_rates\"]\n",
    "prices = model[\"prices\"]\n",
    "\n",
    "T = 30 - 4\n",
    "n_exp = 10\n",
    "daily_user = 500"
   ],
   "metadata": {
    "collapsed": false,
    "pycharm": {
     "name": "#%%\n"
    }
   }
  },
  {
   "cell_type": "code",
   "execution_count": 34,
   "outputs": [
    {
     "name": "stdout",
     "output_type": "stream",
     "text": [
      "Optimal_arm:  [1 0 1 0 0]\n",
      "Optimal reward:  3.9431713537644453\n"
     ]
    }
   ],
   "source": [
    "optimal_arm = optimization_algorithm(model, False)  # pull the optimal arm\n",
    "print(\"Optimal_arm: \", optimal_arm)\n",
    "\n",
    "optimal_act_rate = MC_simulation(model, real_conv_rates[range(5), optimal_arm], 5, 10000)\n",
    "\n",
    "optimal_reward = return_reward(model, prices[range(5), optimal_arm],\n",
    "                               real_conv_rates[range(5), optimal_arm], optimal_act_rate, model['real_alpha_ratio'], model['real_quantity'])\n",
    "print(\"Optimal reward: \", optimal_reward)"
   ],
   "metadata": {
    "collapsed": false,
    "pycharm": {
     "name": "#%%\n"
    }
   }
  },
  {
   "cell_type": "code",
   "execution_count": 40,
   "outputs": [],
   "source": [
    "learner = UCBLearner1(model)\n",
    "instant_regret_rew = [[] for _ in range(n_exp)]\n",
    "instant_regret_obs = [[] for _ in range(n_exp)]"
   ],
   "metadata": {
    "collapsed": false,
    "pycharm": {
     "name": "#%%\n"
    }
   }
  },
  {
   "cell_type": "code",
   "execution_count": 41,
   "outputs": [
    {
     "name": "stderr",
     "output_type": "stream",
     "text": [
      "100%|██████████| 10/10 [02:51<00:00, 17.13s/it]\n"
     ]
    }
   ],
   "source": [
    "for i in trange(n_exp):\n",
    "    for t in range(4):\n",
    "        arm = [t, t, t, t, t]\n",
    "        alpha_ratio = env1.alpha_ratio_otd()\n",
    "        data = env1.round_single_day(daily_user, alpha_ratio, arm, class_probability)\n",
    "        env_data = conv_data(data)\n",
    "        learner.update(arm, env_data)\n",
    "\n",
    "        act_rate = MC_simulation(model, real_conv_rates[range(5), arm], 5)\n",
    "        rew = return_reward(model, prices[range(5), arm],\n",
    "                            real_conv_rates[range(5), arm], act_rate, model['real_alpha_ratio'], model['real_quantity'])\n",
    "\n",
    "        obs_reward = 0\n",
    "        if len(data):\n",
    "            for i_ in range(len(data)):\n",
    "                obs_reward += np.sum(data[i_][0])\n",
    "\n",
    "            obs_reward /= len(data)\n",
    "\n",
    "        instant_regret_rew[i].append(optimal_reward - rew)\n",
    "        instant_regret_obs[i].append(optimal_reward - obs_reward)\n",
    "\n",
    "    for t in range(T):\n",
    "        pulled_arm = learner.act()\n",
    "        alpha_ratio = env1.alpha_ratio_otd()\n",
    "        data = env1.round_single_day(daily_user, alpha_ratio, pulled_arm, class_probability)\n",
    "        env_data = conv_data(data)\n",
    "        learner.update(pulled_arm, env_data)\n",
    "\n",
    "        act_rate = MC_simulation(model, real_conv_rates[range(5), pulled_arm], 5)\n",
    "        rew = return_reward(model, prices[range(5), pulled_arm],\n",
    "                            real_conv_rates[range(5), pulled_arm], act_rate, model['real_alpha_ratio'], model['real_quantity'])\n",
    "\n",
    "        obs_reward = 0\n",
    "        if len(data):\n",
    "            for i_ in range(len(data)):\n",
    "                obs_reward += np.sum(data[i_][0])\n",
    "\n",
    "            obs_reward /= len(data)\n",
    "\n",
    "        instant_regret_rew[i].append(optimal_reward - rew)\n",
    "        instant_regret_obs[i].append(optimal_reward - obs_reward)\n",
    "    learner.reset()"
   ],
   "metadata": {
    "collapsed": false,
    "pycharm": {
     "name": "#%%\n"
    }
   }
  },
  {
   "cell_type": "code",
   "execution_count": 42,
   "outputs": [
    {
     "data": {
      "text/plain": "<Figure size 432x288 with 1 Axes>",
      "image/png": "[encoded data removed]"
     },
     "metadata": {
      "needs_background": "light"
     },
     "output_type": "display_data"
    }
   ],
   "source": [
    "show_results(instant_regret_rew, instant_regret_obs, \"UCB test, first case\")"
   ],
   "metadata": {
    "collapsed": false,
    "pycharm": {
     "name": "#%%\n"
    }
   }
  },
  {
   "cell_type": "code",
   "execution_count": 43,
   "outputs": [],
   "source": [
    "learner2 = UCBLearner1(model)\n",
    "instant_regret_rew2 = [[] for _ in range(n_exp)]\n",
    "instant_regret_obs2 = [[] for _ in range(n_exp)]"
   ],
   "metadata": {
    "collapsed": false,
    "pycharm": {
     "name": "#%%\n"
    }
   }
  },
  {
   "cell_type": "code",
   "execution_count": 47,
   "outputs": [
    {
     "name": "stderr",
     "output_type": "stream",
     "text": [
      "100%|██████████| 10/10 [03:05<00:00, 18.53s/it]\n"
     ]
    }
   ],
   "source": [
    "for i in trange(n_exp):\n",
    "\n",
    "    for t in range(T+4):\n",
    "        pulled_arm = learner2.act()\n",
    "        alpha_ratio = env1.alpha_ratio_otd()\n",
    "        data = env1.round_single_day(daily_user, alpha_ratio, pulled_arm, class_probability)\n",
    "        env_data = conv_data(data)\n",
    "        learner2.update(pulled_arm, env_data)\n",
    "\n",
    "        act_rate = MC_simulation(model, real_conv_rates[range(5), pulled_arm], 5)\n",
    "        rew = return_reward(model, prices[range(5), pulled_arm],\n",
    "                            real_conv_rates[range(5), pulled_arm], act_rate, model['real_alpha_ratio'], model['real_quantity'])\n",
    "\n",
    "        obs_reward = 0\n",
    "        if len(data):\n",
    "            for i_ in range(len(data)):\n",
    "                obs_reward += np.sum(data[i_][0])\n",
    "\n",
    "            obs_reward /= len(data)\n",
    "\n",
    "        instant_regret_rew2[i].append(optimal_reward - rew)\n",
    "        instant_regret_obs2[i].append(optimal_reward - obs_reward)\n",
    "\n",
    "    learner2.reset()"
   ],
   "metadata": {
    "collapsed": false,
    "pycharm": {
     "name": "#%%\n"
    }
   }
  },
  {
   "cell_type": "code",
   "execution_count": 48,
   "outputs": [
    {
     "data": {
      "text/plain": "<Figure size 432x288 with 1 Axes>",
      "image/png": "[encoded data removed]"
     },
     "metadata": {
      "needs_background": "light"
     },
     "output_type": "display_data"
    }
   ],
   "source": [
    "show_results(instant_regret_rew2, instant_regret_obs2, \"UCB test, first case\")"
   ],
   "metadata": {
    "collapsed": false,
    "pycharm": {
     "name": "#%%\n"
    }
   }
  }
 ],
 "metadata": {
  "kernelspec": {
   "display_name": "Python 3",
   "language": "python",
   "name": "python3"
  },
  "language_info": {
   "codemirror_mode": {
    "name": "ipython",
    "version": 2
   },
   "file_extension": ".py",
   "mimetype": "text/x-python",
   "name": "python",
   "nbconvert_exporter": "python",
   "pygments_lexer": "ipython2",
   "version": "2.7.6"
  }
 },
 "nbformat": 4,
 "nbformat_minor": 0
}